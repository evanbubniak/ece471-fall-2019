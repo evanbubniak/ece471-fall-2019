{
 "cells": [
  {
   "cell_type": "code",
   "execution_count": 1,
   "metadata": {},
   "outputs": [],
   "source": [
    "import matplotlib as mpl\n",
    "import matplotlib.pyplot as plt\n",
    "import pandas as pd\n",
    "import os\n",
    "from math import ceil"
   ]
  },
  {
   "cell_type": "code",
   "execution_count": 11,
   "metadata": {},
   "outputs": [],
   "source": [
    "os.mkdir(\"output_1\")"
   ]
  },
  {
   "cell_type": "code",
   "execution_count": 16,
   "metadata": {},
   "outputs": [
    {
     "name": "stdout",
     "output_type": "stream",
     "text": [
      "['.ipynb_checkpoints', 'AlexNet-gaussian-weights.h5', 'AlexNet-gaussian.csv', 'AlexNet-random_labels-weights.h5', 'AlexNet-random_labels.csv', 'AlexNet-random_pixels-weights.h5', 'AlexNet-random_pixels.csv', 'AlexNet-shuffled_pixels-weights.h5', 'AlexNet-shuffled_pixels.csv', 'AlexNet-true_labels-weights.h5', 'AlexNet-true_labels.csv', 'MiniInceptionV3-gaussian-weights.h5', 'MiniInceptionV3-gaussian.csv', 'MiniInceptionV3-random_labels-weights.h5', 'MiniInceptionV3-random_labels.csv', 'MiniInceptionV3-random_pixels-weights.h5', 'MiniInceptionV3-random_pixels.csv', 'MiniInceptionV3-shuffled_pixels-weights.h5', 'MiniInceptionV3-shuffled_pixels.csv', 'MiniInceptionV3-true_labels-weights.h5', 'MiniInceptionV3-true_labels.csv', 'MiniInceptionV3_without_BatchNorm-gaussian-weights.h5', 'MiniInceptionV3_without_BatchNorm-gaussian.csv', 'MiniInceptionV3_without_BatchNorm-random_labels-weights.h5', 'MiniInceptionV3_without_BatchNorm-random_labels.csv', 'MiniInceptionV3_without_BatchNorm-random_pixels-weights.h5', 'MiniInceptionV3_without_BatchNorm-random_pixels.csv', 'MiniInceptionV3_without_BatchNorm-shuffled_pixels-weights.h5', 'MiniInceptionV3_without_BatchNorm-shuffled_pixels.csv', 'MiniInceptionV3_without_BatchNorm-true_labels-weights.h5', 'MiniInceptionV3_without_BatchNorm-true_labels.csv', 'MLP_1x512-gaussian-weights.h5', 'MLP_1x512-gaussian.csv', 'MLP_1x512-random_labels-weights.h5', 'MLP_1x512-random_labels.csv', 'MLP_1x512-random_pixels-weights.h5', 'MLP_1x512-random_pixels.csv', 'MLP_1x512-shuffled_pixels-weights.h5', 'MLP_1x512-shuffled_pixels.csv', 'MLP_1x512-true_labels-weights.h5', 'MLP_1x512-true_labels.csv', 'MLP_3x512-gaussian-weights.h5', 'MLP_3x512-gaussian.csv', 'MLP_3x512-random_labels-weights.h5', 'MLP_3x512-random_labels.csv', 'MLP_3x512-random_pixels-weights.h5', 'MLP_3x512-random_pixels.csv', 'MLP_3x512-shuffled_pixels-weights.h5', 'MLP_3x512-shuffled_pixels.csv', 'MLP_3x512-true_labels-weights.h5', 'MLP_3x512-true_labels.csv', 'output.eps', 'output.png', 'output_1', 'plot_results.ipynb']\n"
     ]
    }
   ],
   "source": [
    "print(os.listdir())"
   ]
  },
  {
   "cell_type": "code",
   "execution_count": 21,
   "metadata": {},
   "outputs": [
    {
     "name": "stdout",
     "output_type": "stream",
     "text": [
      "True\n"
     ]
    }
   ],
   "source": [
    "print(filter_dir_files('MiniInceptionV3_without_BatchNorm-shuffled_pixels.csv'))"
   ]
  },
  {
   "cell_type": "code",
   "execution_count": 29,
   "metadata": {},
   "outputs": [
    {
     "name": "stdout",
     "output_type": "stream",
     "text": [
      "AlexNet-true_labels.csv\n",
      "MiniInceptionV3-true_labels.csv\n",
      "MLP_1x512-true_labels.csv\n",
      "MLP_3x512-true_labels.csv\n",
      "AlexNet-random_labels.csv\n",
      "MiniInceptionV3-random_labels.csv\n",
      "MLP_1x512-random_labels.csv\n",
      "MLP_3x512-random_labels.csv\n",
      "AlexNet-shuffled_pixels.csv\n",
      "MiniInceptionV3-shuffled_pixels.csv\n",
      "MLP_1x512-shuffled_pixels.csv\n",
      "MLP_3x512-shuffled_pixels.csv\n",
      "AlexNet-random_pixels.csv\n",
      "MiniInceptionV3-random_pixels.csv\n",
      "MLP_1x512-random_pixels.csv\n",
      "MLP_3x512-random_pixels.csv\n",
      "AlexNet-gaussian.csv\n",
      "MiniInceptionV3-gaussian.csv\n",
      "MLP_1x512-gaussian.csv\n",
      "MLP_3x512-gaussian.csv\n"
     ]
    }
   ],
   "source": [
    "model_names = [\"MiniInceptionV3\", \"AlexNet\", \"MLP_1x512\", \"MLP_3x512\"]\n",
    "label_markers = ['true', 'random_labels', 'shuffled', 'random_pixels', 'gaussian']\n",
    "everything_in_dir = os.listdir(os.getcwd())\n",
    "folders_in_dir = filter(lambda f: os.path.isdir(f) and \"output\" in f, everything_in_dir)\n",
    "max_folder_num = 1\n",
    "for folder in folders_in_dir:\n",
    "    folder_num = folder[(folder.find(\"_\") + 1):]\n",
    "    max_folder_num = max(int(folder_num), max_folder_num)\n",
    "OUTPUT_DIR = os.getcwd()\n",
    "\n",
    "def filter_dir_files(file_name):\n",
    "    conditionals = [\".csv\" in file_name]\n",
    "    if \"MiniInceptionV3\" in model_names and \"MiniInceptionV3_without_BatchNorm\" not in model_names and \"BatchNorm\" in file_name:\n",
    "        return False\n",
    "    else:\n",
    "        conditionals.append(any([model_name in file_name for model_name in model_names]))\n",
    "    return all(conditionals)\n",
    "\n",
    "all_data = []\n",
    "# array of array of DFs\n",
    "all_files_in_dir = list(filter(filter_dir_files, os.listdir(OUTPUT_DIR)))\n",
    "for label in label_markers:\n",
    "    data_by_model = []\n",
    "    for file_name in all_files_in_dir:\n",
    "        if label in file_name:\n",
    "            print(file_name)\n",
    "#             path = os.path.join(OUTPUT_DIR, file_name)\n",
    "#             data = pd.read_csv(path)\n",
    "#             data_by_model.append(data)\n",
    "    #all_data.append(data_by_model)"
   ]
  },
  {
   "cell_type": "code",
   "execution_count": 2,
   "metadata": {
    "scrolled": true
   },
   "outputs": [
    {
     "name": "stdout",
     "output_type": "stream",
     "text": [
      "MiniInceptionV3-true_labels.csv\n",
      "MiniInceptionV3-random_labels.csv\n",
      "MiniInceptionV3-shuffled_pixels.csv\n",
      "MiniInceptionV3-random_pixels.csv\n",
      "MiniInceptionV3-gaussian.csv\n"
     ]
    }
   ],
   "source": [
    "label_markers = ['true', 'random_labels', 'shuffled', 'random_pixels', 'gaussian']\n",
    "#array of array of DFs\n",
    "all_data = []\n",
    "for label in label_markers:\n",
    "    data_by_model = []\n",
    "    for file in os.listdir(os.getcwd()):\n",
    "        if \".csv\" in file and label in file and \"Mini\" in file and \"without\" not in file:\n",
    "            print(file)\n",
    "            path = os.path.join(os.getcwd(), file)\n",
    "            data = pd.read_csv(path)\n",
    "            data = data[:40]\n",
    "            data_by_model.append(data)\n",
    "    all_data.append(data_by_model)"
   ]
  },
  {
   "cell_type": "code",
   "execution_count": 3,
   "metadata": {},
   "outputs": [],
   "source": [
    "all_losses = []\n",
    "for data_corruption in all_data:\n",
    "    avg_loss = pd.DataFrame({'average loss': [0] * len(data_corruption[0])})\n",
    "    avg_loss['epoch'] = avg_loss.index\n",
    "    for model_results in data_corruption:\n",
    "        avg_loss['average loss'] = avg_loss['average loss'] + model_results[\"loss\"]\n",
    "    avg_loss['average loss'] = avg_loss['average loss'] / len(data_corruption)\n",
    "    all_losses.append(avg_loss)"
   ]
  },
  {
   "cell_type": "code",
   "execution_count": 4,
   "metadata": {},
   "outputs": [],
   "source": [
    "bs = 200\n",
    "spe = ceil(50000 / bs)\n",
    "\n",
    "for dataset in all_losses:\n",
    "    dataset[\"thousand steps\"] = ((dataset[\"epoch\"] + 1)*spe)/1000"
   ]
  },
  {
   "cell_type": "code",
   "execution_count": 5,
   "metadata": {},
   "outputs": [],
   "source": [
    "true_label_format = [{'c': \"blue\", 'marker': 's', 'edgecolors': 'black'},\n",
    "                    {'c': \"blue\"}]\n",
    "\n",
    "random_label_format = [{'c': \"red\", 'marker': 'o', 'edgecolors': 'black'},\n",
    "                    {'c': \"red\"}]\n",
    "\n",
    "shuffled_pixel_format = [{'c': '#00ff00', 'marker': '*', 'edgecolors': 'black'},\n",
    "                    {'c': '#00ff00'}]\n",
    "\n",
    "random_pixel_format = [{'c': None, 'marker': None, 'edgecolors': None},\n",
    "                    {'c': \"#D742F4\"}]\n",
    "\n",
    "gaussian_format = [{'c': 'black', 'marker': 'D', 'edgecolors': 'black'},\n",
    "                    {'c': \"black\"}]\n",
    "\n",
    "formats = [true_label_format, random_label_format, shuffled_pixel_format, random_pixel_format, gaussian_format]\n",
    "legend_names = ['true labels', 'random labels', 'shuffled pixels', 'random pixels', 'gaussian']"
   ]
  },
  {
   "cell_type": "code",
   "execution_count": 6,
   "metadata": {},
   "outputs": [
    {
     "ename": "NameError",
     "evalue": "name 'datasets' is not defined",
     "output_type": "error",
     "traceback": [
      "\u001b[1;31m---------------------------------------------------------------------------\u001b[0m",
      "\u001b[1;31mNameError\u001b[0m                                 Traceback (most recent call last)",
      "\u001b[1;32m<ipython-input-6-44d5d560a40b>\u001b[0m in \u001b[0;36m<module>\u001b[1;34m\u001b[0m\n\u001b[1;32m----> 1\u001b[1;33m \u001b[0mlen\u001b[0m\u001b[1;33m(\u001b[0m\u001b[0mdatasets\u001b[0m\u001b[1;33m)\u001b[0m\u001b[1;33m\u001b[0m\u001b[1;33m\u001b[0m\u001b[0m\n\u001b[0m",
      "\u001b[1;31mNameError\u001b[0m: name 'datasets' is not defined"
     ]
    }
   ],
   "source": [
    "len(datasets)"
   ]
  },
  {
   "cell_type": "code",
   "execution_count": null,
   "metadata": {},
   "outputs": [],
   "source": [
    "%matplotlib inline\n",
    "fig1 = plt.figure(figsize=(3,3))\n",
    "i = 0\n",
    "array_of_linmarks=[]\n",
    "for dataset, data_format in zip(all_losses, formats):\n",
    "    lin = None\n",
    "    mark = None\n",
    "    ax = plt.gca()\n",
    "    z = 5 if i == 3 else 0\n",
    "    if i != 3:\n",
    "        mark = ax.scatter(dataset[\"thousand steps\"].values[1:],\n",
    "                    dataset[\"average loss\"].values[1:],\n",
    "                    s = 10,\n",
    "                    zorder = 10,\n",
    "                    **data_format[0])\n",
    "    lin, = ax.plot(dataset[\"thousand steps\"].values[1:],\n",
    "            dataset[\"average loss\"].values[1:],\n",
    "            zorder = z,\n",
    "            **data_format[1]\n",
    "           )\n",
    "    if mark:\n",
    "        array_of_linmarks.append((lin, mark))\n",
    "    else:\n",
    "        array_of_linmarks.append((lin))\n",
    "    i+=1\n",
    "ax.tick_params(axis = 'both', direction = 'in', top = True, right = True)\n",
    "leg = ax.legend(array_of_linmarks, legend_names, scatterpoints=2, framealpha = 1, scatteryoffsets=[0.5])\n",
    "leg.set_zorder(20)\n",
    "leg.get_frame().set_facecolor('w')\n",
    "ax.set_xticks([0, 5, 10, 15, 20, 25])\n",
    "ax.set_yticks([0, 0.5, 1, 1.5, 2.0, 2.5])\n",
    "\n",
    "plt.draw()\n",
    "\n",
    "plt.xlabel(\"thousand steps\")\n",
    "plt.ylabel(\"average_loss\")\n",
    "plt.xlim(0, 25)\n",
    "plt.ylim(0, 2.5)\n",
    "plt.tight_layout()\n",
    "fig1.savefig(\"output.eps\")\n",
    "fig1.savefig(\"output.png\")"
   ]
  },
  {
   "cell_type": "code",
   "execution_count": null,
   "metadata": {},
   "outputs": [],
   "source": []
  }
 ],
 "metadata": {
  "kernelspec": {
   "display_name": "Python 3",
   "language": "python",
   "name": "python3"
  },
  "language_info": {
   "codemirror_mode": {
    "name": "ipython",
    "version": 3
   },
   "file_extension": ".py",
   "mimetype": "text/x-python",
   "name": "python",
   "nbconvert_exporter": "python",
   "pygments_lexer": "ipython3",
   "version": "3.7.1"
  }
 },
 "nbformat": 4,
 "nbformat_minor": 2
}
