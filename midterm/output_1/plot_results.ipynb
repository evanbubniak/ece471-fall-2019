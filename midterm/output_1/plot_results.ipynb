{
 "cells": [
  {
   "cell_type": "code",
   "execution_count": 1,
   "metadata": {},
   "outputs": [],
   "source": [
    "import matplotlib as mpl\n",
    "import matplotlib.pyplot as plt\n",
    "import pandas as pd\n",
    "import os\n",
    "from math import ceil"
   ]
  },
  {
   "cell_type": "code",
   "execution_count": 54,
   "metadata": {},
   "outputs": [],
   "source": [
    "everything_in_dir = os.listdir(os.getcwd())\n",
    "folders_in_dir = filter(lambda f: os.path.isdir(f) and \"output\" in f, everything_in_dir)\n",
    "max_folder_num = 0\n",
    "for folder in folders_in_dir:\n",
    "    folder_num = folder[(folder.find(\"_\") + 1):]\n",
    "    max_folder_num = max(int(folder_num), max_folder_num)\n",
    "OUTPUT_DIR = \"output_{}\".format(max_folder_num + 1)"
   ]
  },
  {
   "cell_type": "code",
   "execution_count": 53,
   "metadata": {},
   "outputs": [
    {
     "data": {
      "text/plain": [
       "1"
      ]
     },
     "execution_count": 53,
     "metadata": {},
     "output_type": "execute_result"
    }
   ],
   "source": []
  },
  {
   "cell_type": "code",
   "execution_count": 2,
   "metadata": {},
   "outputs": [],
   "source": [
    "label_markers = ['true', 'random_labels', 'shuffled', 'random_pixels', 'gaussian']\n",
    "\n",
    "datasets = []\n",
    "for label in label_markers:\n",
    "    label_data = pd.DataFrame()\n",
    "    for file in os.listdir(os.getcwd()):\n",
    "        if \".csv\" in file and label in file:\n",
    "            path = os.path.join(os.getcwd(), file)\n",
    "            data = pd.read_csv(path)\n",
    "            label_data = label_data.append(data, sort = False)\n",
    "    datasets.append(data)"
   ]
  },
  {
   "cell_type": "code",
   "execution_count": 3,
   "metadata": {},
   "outputs": [],
   "source": [
    "bs = 200\n",
    "spe = ceil(50000 / bs)\n",
    "\n",
    "for dataset in datasets:\n",
    "    dataset[\"thousand steps\"] = ((dataset[\"epoch\"] + 1)*spe)/1000"
   ]
  },
  {
   "cell_type": "code",
   "execution_count": 4,
   "metadata": {},
   "outputs": [],
   "source": [
    "true_label_format = [{'c': \"blue\", 'marker': 's', 'edgecolors': 'black'},\n",
    "                    {'c': \"blue\"}]\n",
    "\n",
    "random_label_format = [{'c': \"red\", 'marker': 'o', 'edgecolors': 'black'},\n",
    "                    {'c': \"red\"}]\n",
    "\n",
    "shuffled_pixel_format = [{'c': '#00ff00', 'marker': '*', 'edgecolors': 'black'},\n",
    "                    {'c': '#00ff00'}]\n",
    "\n",
    "random_pixel_format = [{'c': None, 'marker': None, 'edgecolors': None},\n",
    "                    {'c': \"#D742F4\"}]\n",
    "\n",
    "gaussian_format = [{'c': 'black', 'marker': 'D', 'edgecolors': 'black'},\n",
    "                    {'c': \"black\"}]\n",
    "\n",
    "formats = [true_label_format, random_label_format, shuffled_pixel_format, random_pixel_format, gaussian_format]\n",
    "legend_names = ['true labels', 'random labels', 'shuffled pixels', 'random pixels', 'gaussian']"
   ]
  },
  {
   "cell_type": "code",
   "execution_count": null,
   "metadata": {},
   "outputs": [],
   "source": []
  },
  {
   "cell_type": "code",
   "execution_count": 17,
   "metadata": {},
   "outputs": [
    {
     "data": {
      "image/png": "[encoded data removed]",
      "text/plain": [
       "<Figure size 216x216 with 1 Axes>"
      ]
     },
     "metadata": {
      "needs_background": "light"
     },
     "output_type": "display_data"
    }
   ],
   "source": [
    "%matplotlib inline\n",
    "fig1 = plt.figure(figsize=(3,3))\n",
    "i = 0\n",
    "array_of_linmarks=[]\n",
    "for dataset, data_format in zip(datasets, formats):\n",
    "    lin = None\n",
    "    mark = None\n",
    "    ax = plt.gca()\n",
    "    z = 5 if i == 3 else 0\n",
    "    if i != 3:\n",
    "        mark = ax.scatter(dataset[\"thousand steps\"].values[1:],\n",
    "                    dataset[\"loss\"].values[1:],\n",
    "                    s = 10,\n",
    "                    zorder = 10,\n",
    "                    **data_format[0])\n",
    "    lin, = ax.plot(dataset[\"thousand steps\"].values[1:],\n",
    "            dataset[\"loss\"].values[1:],\n",
    "            zorder = z,\n",
    "            **data_format[1]\n",
    "           )\n",
    "    if mark:\n",
    "        array_of_linmarks.append((lin, mark))\n",
    "    else:\n",
    "        array_of_linmarks.append((lin))\n",
    "    i+=1\n",
    "ax.tick_params(axis = 'both', direction = 'in', top = True, right = True)\n",
    "leg = ax.legend(array_of_linmarks, legend_names, scatterpoints=2, framealpha = 1, scatteryoffsets=[0.5])\n",
    "leg.set_zorder(20)\n",
    "leg.get_frame().set_facecolor('w')\n",
    "ax.set_xticks([0, 5, 10, 15, 20, 25])\n",
    "ax.set_yticks([0, 0.5, 1, 1.5, 2.0, 2.5])\n",
    "\n",
    "plt.draw()\n",
    "\n",
    "plt.xlabel(\"thousand steps\")\n",
    "plt.ylabel(\"average_loss\")\n",
    "plt.xlim(0, 25)\n",
    "plt.ylim(0, 2.5)\n",
    "plt.tight_layout()\n",
    "fig1.savefig(\"output.eps\")\n",
    "fig1.savefig(\"output.png\")"
   ]
  }
 ],
 "metadata": {
  "kernelspec": {
   "display_name": "Python 3",
   "language": "python",
   "name": "python3"
  },
  "language_info": {
   "codemirror_mode": {
    "name": "ipython",
    "version": 3
   },
   "file_extension": ".py",
   "mimetype": "text/x-python",
   "name": "python",
   "nbconvert_exporter": "python",
   "pygments_lexer": "ipython3",
   "version": "3.7.1"
  }
 },
 "nbformat": 4,
 "nbformat_minor": 2
}
